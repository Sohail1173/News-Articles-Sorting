{
  "nbformat": 4,
  "nbformat_minor": 0,
  "metadata": {
    "colab": {
      "provenance": [],
      "collapsed_sections": [
        "_49dMO86jZ45",
        "aZDy_eGGjzH7",
        "uL4BG05PkCMB",
        "aTvEDiOCkjV_",
        "2sT1E8dGlS5m",
        "KL58p9X7np7o",
        "tB06secfojdT",
        "KSY0Gu5oo2_j",
        "y8Gh2Y3VqOXM",
        "8kkQyB0qqWuB",
        "YJs1po5PsWcH",
        "LBlXpMIrskaD",
        "VV5pax_BswPA",
        "gZIKG_mltEvx",
        "TXQc0iKXtN39"
      ],
      "authorship_tag": "ABX9TyP+96So64sxgMsWz4UzdAgB",
      "include_colab_link": true
    },
    "kernelspec": {
      "name": "python3",
      "display_name": "Python 3"
    },
    "language_info": {
      "name": "python"
    },
    "accelerator": "GPU",
    "gpuClass": "standard"
  },
  "cells": [
    {
      "cell_type": "markdown",
      "metadata": {
        "id": "view-in-github",
        "colab_type": "text"
      },
      "source": [
        "<a href=\"https://colab.research.google.com/github/keepitsimplegithub/News-Articles-Sorting/blob/main/News_Articles_Sorting.ipynb\" target=\"_parent\"><img src=\"https://colab.research.google.com/assets/colab-badge.svg\" alt=\"Open In Colab\"/></a>"
      ]
    },
    {
      "cell_type": "code",
      "source": [
        "import pandas as pd\n",
        "import numpy as np\n",
        "import seaborn as sns\n",
        "import matplotlib.pyplot as plt"
      ],
      "metadata": {
        "id": "XhoKtHBzedAD"
      },
      "execution_count": 97,
      "outputs": []
    },
    {
      "cell_type": "code",
      "source": [
        "from tqdm import tqdm\n",
        "tqdm.pandas()"
      ],
      "metadata": {
        "id": "Cgd9yRBneg1t"
      },
      "execution_count": 98,
      "outputs": []
    },
    {
      "cell_type": "code",
      "source": [
        "data = pd.read_csv(\"data.csv\")"
      ],
      "metadata": {
        "id": "tfM0IRTzemFK"
      },
      "execution_count": 99,
      "outputs": []
    },
    {
      "cell_type": "code",
      "source": [
        "data.drop(columns=[\"ArticleId\"], inplace=True)"
      ],
      "metadata": {
        "id": "KP5bM_25evBq"
      },
      "execution_count": 100,
      "outputs": []
    },
    {
      "cell_type": "code",
      "source": [
        "data.head()"
      ],
      "metadata": {
        "colab": {
          "base_uri": "https://localhost:8080/",
          "height": 206
        },
        "id": "ooCMZkN2e5Ym",
        "outputId": "9c7b986b-c7cf-4039-9d4e-038ea0c2cb6d"
      },
      "execution_count": 101,
      "outputs": [
        {
          "output_type": "execute_result",
          "data": {
            "text/plain": [
              "                                                Text  Category\n",
              "0  worldcom ex-boss launches defence lawyers defe...  business\n",
              "1  german business confidence slides german busin...  business\n",
              "2  bbc poll indicates economic gloom citizens in ...  business\n",
              "3  lifestyle  governs mobile choice  faster  bett...      tech\n",
              "4  enron bosses in $168m payout eighteen former e...  business"
            ],
            "text/html": [
              "\n",
              "  <div id=\"df-c7ced3c3-623c-44b1-84a7-762971c3c2bf\">\n",
              "    <div class=\"colab-df-container\">\n",
              "      <div>\n",
              "<style scoped>\n",
              "    .dataframe tbody tr th:only-of-type {\n",
              "        vertical-align: middle;\n",
              "    }\n",
              "\n",
              "    .dataframe tbody tr th {\n",
              "        vertical-align: top;\n",
              "    }\n",
              "\n",
              "    .dataframe thead th {\n",
              "        text-align: right;\n",
              "    }\n",
              "</style>\n",
              "<table border=\"1\" class=\"dataframe\">\n",
              "  <thead>\n",
              "    <tr style=\"text-align: right;\">\n",
              "      <th></th>\n",
              "      <th>Text</th>\n",
              "      <th>Category</th>\n",
              "    </tr>\n",
              "  </thead>\n",
              "  <tbody>\n",
              "    <tr>\n",
              "      <th>0</th>\n",
              "      <td>worldcom ex-boss launches defence lawyers defe...</td>\n",
              "      <td>business</td>\n",
              "    </tr>\n",
              "    <tr>\n",
              "      <th>1</th>\n",
              "      <td>german business confidence slides german busin...</td>\n",
              "      <td>business</td>\n",
              "    </tr>\n",
              "    <tr>\n",
              "      <th>2</th>\n",
              "      <td>bbc poll indicates economic gloom citizens in ...</td>\n",
              "      <td>business</td>\n",
              "    </tr>\n",
              "    <tr>\n",
              "      <th>3</th>\n",
              "      <td>lifestyle  governs mobile choice  faster  bett...</td>\n",
              "      <td>tech</td>\n",
              "    </tr>\n",
              "    <tr>\n",
              "      <th>4</th>\n",
              "      <td>enron bosses in $168m payout eighteen former e...</td>\n",
              "      <td>business</td>\n",
              "    </tr>\n",
              "  </tbody>\n",
              "</table>\n",
              "</div>\n",
              "      <button class=\"colab-df-convert\" onclick=\"convertToInteractive('df-c7ced3c3-623c-44b1-84a7-762971c3c2bf')\"\n",
              "              title=\"Convert this dataframe to an interactive table.\"\n",
              "              style=\"display:none;\">\n",
              "        \n",
              "  <svg xmlns=\"http://www.w3.org/2000/svg\" height=\"24px\"viewBox=\"0 0 24 24\"\n",
              "       width=\"24px\">\n",
              "    <path d=\"M0 0h24v24H0V0z\" fill=\"none\"/>\n",
              "    <path d=\"M18.56 5.44l.94 2.06.94-2.06 2.06-.94-2.06-.94-.94-2.06-.94 2.06-2.06.94zm-11 1L8.5 8.5l.94-2.06 2.06-.94-2.06-.94L8.5 2.5l-.94 2.06-2.06.94zm10 10l.94 2.06.94-2.06 2.06-.94-2.06-.94-.94-2.06-.94 2.06-2.06.94z\"/><path d=\"M17.41 7.96l-1.37-1.37c-.4-.4-.92-.59-1.43-.59-.52 0-1.04.2-1.43.59L10.3 9.45l-7.72 7.72c-.78.78-.78 2.05 0 2.83L4 21.41c.39.39.9.59 1.41.59.51 0 1.02-.2 1.41-.59l7.78-7.78 2.81-2.81c.8-.78.8-2.07 0-2.86zM5.41 20L4 18.59l7.72-7.72 1.47 1.35L5.41 20z\"/>\n",
              "  </svg>\n",
              "      </button>\n",
              "      \n",
              "  <style>\n",
              "    .colab-df-container {\n",
              "      display:flex;\n",
              "      flex-wrap:wrap;\n",
              "      gap: 12px;\n",
              "    }\n",
              "\n",
              "    .colab-df-convert {\n",
              "      background-color: #E8F0FE;\n",
              "      border: none;\n",
              "      border-radius: 50%;\n",
              "      cursor: pointer;\n",
              "      display: none;\n",
              "      fill: #1967D2;\n",
              "      height: 32px;\n",
              "      padding: 0 0 0 0;\n",
              "      width: 32px;\n",
              "    }\n",
              "\n",
              "    .colab-df-convert:hover {\n",
              "      background-color: #E2EBFA;\n",
              "      box-shadow: 0px 1px 2px rgba(60, 64, 67, 0.3), 0px 1px 3px 1px rgba(60, 64, 67, 0.15);\n",
              "      fill: #174EA6;\n",
              "    }\n",
              "\n",
              "    [theme=dark] .colab-df-convert {\n",
              "      background-color: #3B4455;\n",
              "      fill: #D2E3FC;\n",
              "    }\n",
              "\n",
              "    [theme=dark] .colab-df-convert:hover {\n",
              "      background-color: #434B5C;\n",
              "      box-shadow: 0px 1px 3px 1px rgba(0, 0, 0, 0.15);\n",
              "      filter: drop-shadow(0px 1px 2px rgba(0, 0, 0, 0.3));\n",
              "      fill: #FFFFFF;\n",
              "    }\n",
              "  </style>\n",
              "\n",
              "      <script>\n",
              "        const buttonEl =\n",
              "          document.querySelector('#df-c7ced3c3-623c-44b1-84a7-762971c3c2bf button.colab-df-convert');\n",
              "        buttonEl.style.display =\n",
              "          google.colab.kernel.accessAllowed ? 'block' : 'none';\n",
              "\n",
              "        async function convertToInteractive(key) {\n",
              "          const element = document.querySelector('#df-c7ced3c3-623c-44b1-84a7-762971c3c2bf');\n",
              "          const dataTable =\n",
              "            await google.colab.kernel.invokeFunction('convertToInteractive',\n",
              "                                                     [key], {});\n",
              "          if (!dataTable) return;\n",
              "\n",
              "          const docLinkHtml = 'Like what you see? Visit the ' +\n",
              "            '<a target=\"_blank\" href=https://colab.research.google.com/notebooks/data_table.ipynb>data table notebook</a>'\n",
              "            + ' to learn more about interactive tables.';\n",
              "          element.innerHTML = '';\n",
              "          dataTable['output_type'] = 'display_data';\n",
              "          await google.colab.output.renderOutput(dataTable, element);\n",
              "          const docLink = document.createElement('div');\n",
              "          docLink.innerHTML = docLinkHtml;\n",
              "          element.appendChild(docLink);\n",
              "        }\n",
              "      </script>\n",
              "    </div>\n",
              "  </div>\n",
              "  "
            ]
          },
          "metadata": {},
          "execution_count": 101
        }
      ]
    },
    {
      "cell_type": "code",
      "source": [
        "pip install wordninja"
      ],
      "metadata": {
        "colab": {
          "base_uri": "https://localhost:8080/"
        },
        "id": "GZAcWmCFfEBX",
        "outputId": "4c6d5402-2768-420c-f40d-ae195a70f832"
      },
      "execution_count": 102,
      "outputs": [
        {
          "output_type": "stream",
          "name": "stdout",
          "text": [
            "Looking in indexes: https://pypi.org/simple, https://us-python.pkg.dev/colab-wheels/public/simple/\n",
            "Requirement already satisfied: wordninja in /usr/local/lib/python3.7/dist-packages (2.0.0)\n"
          ]
        }
      ]
    },
    {
      "cell_type": "code",
      "source": [
        "pip install nltk"
      ],
      "metadata": {
        "id": "kXP5qu2OfLVw",
        "colab": {
          "base_uri": "https://localhost:8080/"
        },
        "outputId": "010d0452-f8c5-401b-da28-272519874448"
      },
      "execution_count": 103,
      "outputs": [
        {
          "output_type": "stream",
          "name": "stdout",
          "text": [
            "Looking in indexes: https://pypi.org/simple, https://us-python.pkg.dev/colab-wheels/public/simple/\n",
            "Requirement already satisfied: nltk in /usr/local/lib/python3.7/dist-packages (3.7)\n",
            "Requirement already satisfied: click in /usr/local/lib/python3.7/dist-packages (from nltk) (7.1.2)\n",
            "Requirement already satisfied: tqdm in /usr/local/lib/python3.7/dist-packages (from nltk) (4.64.1)\n",
            "Requirement already satisfied: regex>=2021.8.3 in /usr/local/lib/python3.7/dist-packages (from nltk) (2022.6.2)\n",
            "Requirement already satisfied: joblib in /usr/local/lib/python3.7/dist-packages (from nltk) (1.2.0)\n"
          ]
        }
      ]
    },
    {
      "cell_type": "code",
      "source": [
        "import nltk"
      ],
      "metadata": {
        "id": "rRj2nOXU3ywu"
      },
      "execution_count": 104,
      "outputs": []
    },
    {
      "cell_type": "code",
      "source": [
        "nltk.download('stopwords')"
      ],
      "metadata": {
        "colab": {
          "base_uri": "https://localhost:8080/"
        },
        "id": "o5Q7l0jTgS94",
        "outputId": "94b7bc1a-b47e-42cc-bf9c-1ffad83fd6f3"
      },
      "execution_count": 105,
      "outputs": [
        {
          "output_type": "stream",
          "name": "stderr",
          "text": [
            "[nltk_data] Downloading package stopwords to /root/nltk_data...\n",
            "[nltk_data]   Package stopwords is already up-to-date!\n"
          ]
        },
        {
          "output_type": "execute_result",
          "data": {
            "text/plain": [
              "True"
            ]
          },
          "metadata": {},
          "execution_count": 105
        }
      ]
    },
    {
      "cell_type": "code",
      "source": [
        " nltk.download('wordnet')"
      ],
      "metadata": {
        "colab": {
          "base_uri": "https://localhost:8080/"
        },
        "id": "F42ESfR1g-nm",
        "outputId": "a1d9194e-de32-4189-af3a-90872de8b745"
      },
      "execution_count": 106,
      "outputs": [
        {
          "output_type": "stream",
          "name": "stderr",
          "text": [
            "[nltk_data] Downloading package wordnet to /root/nltk_data...\n",
            "[nltk_data]   Package wordnet is already up-to-date!\n"
          ]
        },
        {
          "output_type": "execute_result",
          "data": {
            "text/plain": [
              "True"
            ]
          },
          "metadata": {},
          "execution_count": 106
        }
      ]
    },
    {
      "cell_type": "code",
      "source": [
        "nltk.download('omw-1.4')"
      ],
      "metadata": {
        "colab": {
          "base_uri": "https://localhost:8080/"
        },
        "id": "jhsG0IRDhGt1",
        "outputId": "50fcbf9e-8922-4aa4-9c64-48412e9e6a49"
      },
      "execution_count": 107,
      "outputs": [
        {
          "output_type": "stream",
          "name": "stderr",
          "text": [
            "[nltk_data] Downloading package omw-1.4 to /root/nltk_data...\n",
            "[nltk_data]   Package omw-1.4 is already up-to-date!\n"
          ]
        },
        {
          "output_type": "execute_result",
          "data": {
            "text/plain": [
              "True"
            ]
          },
          "metadata": {},
          "execution_count": 107
        }
      ]
    },
    {
      "cell_type": "code",
      "source": [
        "import re\n",
        "from bs4 import BeautifulSoup\n",
        "import string\n",
        "import wordninja as wn #Probabilistically split concatenated words\n",
        "from nltk.stem import WordNetLemmatizer\n",
        "from textblob import TextBlob # TextBlob works amazingly as a sentiment analyzer.\n",
        "import string\n",
        "import nltk \n",
        "# nltk.download('stopwords') \n",
        "from nltk.corpus import stopwords\n",
        "allstopwords = stopwords.words('english')\n",
        "\n",
        "nltk.download('stopwords') \n",
        "from nltk.corpus import stopwords\n",
        "allstopwords = stopwords.words('english')\n",
        "\n",
        "def preprocessing(sentence):\n",
        "    # make smallercase\n",
        "    sentence = sentence.lower()\n",
        "\n",
        "    # remove emails\n",
        "    sentence = re.sub(r\"([a-zA-Z0-9_.+-]+@[a-zA-Z0-9-]+\\.[a-zA-Z0-9-.]+$)\", '', sentence)\n",
        "\n",
        "    # remove mentions\n",
        "    sentence = re.sub(r\"@[A-Za-z0-9]+\",\"\", sentence)\n",
        "\n",
        "    # Remove html\n",
        "    sentence = BeautifulSoup(sentence, 'lxml').get_text().strip()\n",
        "\n",
        "    # Remove URL\n",
        "    sentence = re.sub(r'https?://\\S+|www\\.\\S+', '', sentence)\n",
        "\n",
        "    # Removing punctutation\n",
        "    sentence = sentence.translate(str.maketrans('', '', string.punctuation))\n",
        "\n",
        "    # Remove non-alphabetic characters\n",
        "    sentence = re.sub(r'[^a-zA-Z ]', '', sentence)\n",
        "\n",
        "    # Spliting words into two meaningful word\n",
        "    #sentence = ' '.join(wn.split(str(sentence)))\n",
        "\n",
        "    #Correct the sentence\n",
        "    #sentence =  str(TextBlob(sentence).correct())\n",
        " # decontracted\n",
        "\n",
        "    ## specific\n",
        "    sentence = re.sub(r\"wont\", \"will not\", sentence)\n",
        "    sentence = re.sub(r\"wouldnt\", \"would not\", sentence)\n",
        "    sentence = re.sub(r\"shouldnt\", \"should not\", sentence)\n",
        "    sentence = re.sub(r\"couldnt\", \"could not\", sentence)\n",
        "    sentence = re.sub(r\"cudnt\", \"could not\", sentence)\n",
        "    sentence = re.sub(r\"cant\", \"can not\", sentence)\n",
        "    sentence = re.sub(r\"dont\", \"do not\", sentence)\n",
        "    sentence = re.sub(r\"doesnt\", \"does not\", sentence)\n",
        "    sentence = re.sub(r\"didnt\", \"did not\", sentence)\n",
        "    sentence = re.sub(r\"wasnt\", \"was not\", sentence)\n",
        "    sentence = re.sub(r\"werent\", \"were not\", sentence)\n",
        "    sentence = re.sub(r\"havent\", \"have not\", sentence)\n",
        "    sentence = re.sub(r\"hadnt\", \"had not\", sentence)\n",
        "\n",
        "    ## general\n",
        "    sentence = re.sub(r\"n\\ t\", \" not\", sentence)\n",
        "    #sentence = re.sub(r\"\\re\", \" are\", sentence)\n",
        "    sentence = re.sub(r\"\\ s \", \" is \", sentence) \n",
        "    sentence = re.sub(r\"\\ d \", \" would \", sentence)\n",
        "    sentence = re.sub(r\"\\ ll \", \" will \", sentence)\n",
        "    sentence = re.sub(r\"\\dunno\", \"do not \", sentence)\n",
        "    sentence = re.sub(r\"ive \", \"i have \", sentence)\n",
        "    sentence = re.sub(r\"im \", \"i am \", sentence)\n",
        "    sentence = re.sub(r\"i m \", \"i am \", sentence)\n",
        "    sentence = re.sub(r\" w \", \" with \", sentence)\n",
        "    \n",
        "    # Punctuation Removal\n",
        "    sentence = \"\".join(i for i in sentence if i not in string.punctuation)\n",
        "    # Stop Word Removal\n",
        "    sentence = \" \".join(i for i in sentence.split() if i not in allstopwords)\n",
        "\n",
        "\n",
        "    # Lemmatize\n",
        "    lm = WordNetLemmatizer()\n",
        "    snt = ' '.join([lm.lemmatize(i) for i in sentence.split()])\n",
        "    return snt"
      ],
      "metadata": {
        "colab": {
          "base_uri": "https://localhost:8080/"
        },
        "id": "ZOnJi7EWe_t5",
        "outputId": "b541f20b-ed4f-430a-c7a2-a782927622a5"
      },
      "execution_count": 108,
      "outputs": [
        {
          "output_type": "stream",
          "name": "stderr",
          "text": [
            "[nltk_data] Downloading package stopwords to /root/nltk_data...\n",
            "[nltk_data]   Package stopwords is already up-to-date!\n"
          ]
        }
      ]
    },
    {
      "cell_type": "code",
      "source": [
        "data[\"Tokens\"] = data.Text.progress_apply(lambda x: preprocessing(x)) "
      ],
      "metadata": {
        "colab": {
          "base_uri": "https://localhost:8080/"
        },
        "id": "4HPZAIx18vXL",
        "outputId": "dfaae013-07d5-4900-a44a-387e512bfdd0"
      },
      "execution_count": 109,
      "outputs": [
        {
          "output_type": "stream",
          "name": "stderr",
          "text": [
            "100%|██████████| 1490/1490 [00:03<00:00, 416.74it/s]\n"
          ]
        }
      ]
    },
    {
      "cell_type": "code",
      "source": [
        "data.head()"
      ],
      "metadata": {
        "id": "o607vFrdhMbc",
        "colab": {
          "base_uri": "https://localhost:8080/",
          "height": 206
        },
        "outputId": "0d3bbff5-c311-4fcc-88ef-6afa8c8021bb"
      },
      "execution_count": 110,
      "outputs": [
        {
          "output_type": "execute_result",
          "data": {
            "text/plain": [
              "                                                Text  Category  \\\n",
              "0  worldcom ex-boss launches defence lawyers defe...  business   \n",
              "1  german business confidence slides german busin...  business   \n",
              "2  bbc poll indicates economic gloom citizens in ...  business   \n",
              "3  lifestyle  governs mobile choice  faster  bett...      tech   \n",
              "4  enron bosses in $168m payout eighteen former e...  business   \n",
              "\n",
              "                                              Tokens  \n",
              "0  worldcom exboss launch defence lawyer defendin...  \n",
              "1  german business confidence slide german busine...  \n",
              "2  bbc poll indicates economic gloom citizen majo...  \n",
              "3  lifestyle governs mobile choice faster better ...  \n",
              "4  enron boss payout eighteen former enron direct...  "
            ],
            "text/html": [
              "\n",
              "  <div id=\"df-100ec94f-2276-43c1-a929-2eee7322935f\">\n",
              "    <div class=\"colab-df-container\">\n",
              "      <div>\n",
              "<style scoped>\n",
              "    .dataframe tbody tr th:only-of-type {\n",
              "        vertical-align: middle;\n",
              "    }\n",
              "\n",
              "    .dataframe tbody tr th {\n",
              "        vertical-align: top;\n",
              "    }\n",
              "\n",
              "    .dataframe thead th {\n",
              "        text-align: right;\n",
              "    }\n",
              "</style>\n",
              "<table border=\"1\" class=\"dataframe\">\n",
              "  <thead>\n",
              "    <tr style=\"text-align: right;\">\n",
              "      <th></th>\n",
              "      <th>Text</th>\n",
              "      <th>Category</th>\n",
              "      <th>Tokens</th>\n",
              "    </tr>\n",
              "  </thead>\n",
              "  <tbody>\n",
              "    <tr>\n",
              "      <th>0</th>\n",
              "      <td>worldcom ex-boss launches defence lawyers defe...</td>\n",
              "      <td>business</td>\n",
              "      <td>worldcom exboss launch defence lawyer defendin...</td>\n",
              "    </tr>\n",
              "    <tr>\n",
              "      <th>1</th>\n",
              "      <td>german business confidence slides german busin...</td>\n",
              "      <td>business</td>\n",
              "      <td>german business confidence slide german busine...</td>\n",
              "    </tr>\n",
              "    <tr>\n",
              "      <th>2</th>\n",
              "      <td>bbc poll indicates economic gloom citizens in ...</td>\n",
              "      <td>business</td>\n",
              "      <td>bbc poll indicates economic gloom citizen majo...</td>\n",
              "    </tr>\n",
              "    <tr>\n",
              "      <th>3</th>\n",
              "      <td>lifestyle  governs mobile choice  faster  bett...</td>\n",
              "      <td>tech</td>\n",
              "      <td>lifestyle governs mobile choice faster better ...</td>\n",
              "    </tr>\n",
              "    <tr>\n",
              "      <th>4</th>\n",
              "      <td>enron bosses in $168m payout eighteen former e...</td>\n",
              "      <td>business</td>\n",
              "      <td>enron boss payout eighteen former enron direct...</td>\n",
              "    </tr>\n",
              "  </tbody>\n",
              "</table>\n",
              "</div>\n",
              "      <button class=\"colab-df-convert\" onclick=\"convertToInteractive('df-100ec94f-2276-43c1-a929-2eee7322935f')\"\n",
              "              title=\"Convert this dataframe to an interactive table.\"\n",
              "              style=\"display:none;\">\n",
              "        \n",
              "  <svg xmlns=\"http://www.w3.org/2000/svg\" height=\"24px\"viewBox=\"0 0 24 24\"\n",
              "       width=\"24px\">\n",
              "    <path d=\"M0 0h24v24H0V0z\" fill=\"none\"/>\n",
              "    <path d=\"M18.56 5.44l.94 2.06.94-2.06 2.06-.94-2.06-.94-.94-2.06-.94 2.06-2.06.94zm-11 1L8.5 8.5l.94-2.06 2.06-.94-2.06-.94L8.5 2.5l-.94 2.06-2.06.94zm10 10l.94 2.06.94-2.06 2.06-.94-2.06-.94-.94-2.06-.94 2.06-2.06.94z\"/><path d=\"M17.41 7.96l-1.37-1.37c-.4-.4-.92-.59-1.43-.59-.52 0-1.04.2-1.43.59L10.3 9.45l-7.72 7.72c-.78.78-.78 2.05 0 2.83L4 21.41c.39.39.9.59 1.41.59.51 0 1.02-.2 1.41-.59l7.78-7.78 2.81-2.81c.8-.78.8-2.07 0-2.86zM5.41 20L4 18.59l7.72-7.72 1.47 1.35L5.41 20z\"/>\n",
              "  </svg>\n",
              "      </button>\n",
              "      \n",
              "  <style>\n",
              "    .colab-df-container {\n",
              "      display:flex;\n",
              "      flex-wrap:wrap;\n",
              "      gap: 12px;\n",
              "    }\n",
              "\n",
              "    .colab-df-convert {\n",
              "      background-color: #E8F0FE;\n",
              "      border: none;\n",
              "      border-radius: 50%;\n",
              "      cursor: pointer;\n",
              "      display: none;\n",
              "      fill: #1967D2;\n",
              "      height: 32px;\n",
              "      padding: 0 0 0 0;\n",
              "      width: 32px;\n",
              "    }\n",
              "\n",
              "    .colab-df-convert:hover {\n",
              "      background-color: #E2EBFA;\n",
              "      box-shadow: 0px 1px 2px rgba(60, 64, 67, 0.3), 0px 1px 3px 1px rgba(60, 64, 67, 0.15);\n",
              "      fill: #174EA6;\n",
              "    }\n",
              "\n",
              "    [theme=dark] .colab-df-convert {\n",
              "      background-color: #3B4455;\n",
              "      fill: #D2E3FC;\n",
              "    }\n",
              "\n",
              "    [theme=dark] .colab-df-convert:hover {\n",
              "      background-color: #434B5C;\n",
              "      box-shadow: 0px 1px 3px 1px rgba(0, 0, 0, 0.15);\n",
              "      filter: drop-shadow(0px 1px 2px rgba(0, 0, 0, 0.3));\n",
              "      fill: #FFFFFF;\n",
              "    }\n",
              "  </style>\n",
              "\n",
              "      <script>\n",
              "        const buttonEl =\n",
              "          document.querySelector('#df-100ec94f-2276-43c1-a929-2eee7322935f button.colab-df-convert');\n",
              "        buttonEl.style.display =\n",
              "          google.colab.kernel.accessAllowed ? 'block' : 'none';\n",
              "\n",
              "        async function convertToInteractive(key) {\n",
              "          const element = document.querySelector('#df-100ec94f-2276-43c1-a929-2eee7322935f');\n",
              "          const dataTable =\n",
              "            await google.colab.kernel.invokeFunction('convertToInteractive',\n",
              "                                                     [key], {});\n",
              "          if (!dataTable) return;\n",
              "\n",
              "          const docLinkHtml = 'Like what you see? Visit the ' +\n",
              "            '<a target=\"_blank\" href=https://colab.research.google.com/notebooks/data_table.ipynb>data table notebook</a>'\n",
              "            + ' to learn more about interactive tables.';\n",
              "          element.innerHTML = '';\n",
              "          dataTable['output_type'] = 'display_data';\n",
              "          await google.colab.output.renderOutput(dataTable, element);\n",
              "          const docLink = document.createElement('div');\n",
              "          docLink.innerHTML = docLinkHtml;\n",
              "          element.appendChild(docLink);\n",
              "        }\n",
              "      </script>\n",
              "    </div>\n",
              "  </div>\n",
              "  "
            ]
          },
          "metadata": {},
          "execution_count": 110
        }
      ]
    },
    {
      "cell_type": "code",
      "source": [
        "sns.countplot(data=data, x='Category')\n",
        "plt.show()"
      ],
      "metadata": {
        "id": "KkoeLApkhRf7",
        "colab": {
          "base_uri": "https://localhost:8080/",
          "height": 279
        },
        "outputId": "bec619be-11bc-4440-e3cf-040736936f65"
      },
      "execution_count": 111,
      "outputs": [
        {
          "output_type": "display_data",
          "data": {
            "text/plain": [
              "<Figure size 432x288 with 1 Axes>"
            ],
            "image/png": "[encoded data removed]"
          },
          "metadata": {
            "needs_background": "light"
          }
        }
      ]
    },
    {
      "cell_type": "markdown",
      "source": [
        "# Feature Engineering\n",
        "\n",
        "Feature Engineering is a very key part of Natural Language Processing. as we all know algorithms and machines can’t understand characters or words or sentences hence we need to encode these words into some specific form of numerical in order to interact with algorithms or machines. we can’t feed the text data containing words /sentences/characters to a machine learning model.\n",
        "\n",
        "There are various ways to perform feature extraction. some popular and mostly used are:-\n",
        "\n",
        "1. Bag of Words model\n",
        "2. TF-IDF\n",
        "# 1. Bag of Words model\n",
        "The idea is to take the whole text data and count their frequency of occurrence. and map the words with their frequency. This method doesn’t care about the order of the words, but it does care how many times a word occurs and the default bag of words model treats all words equally.\n",
        "\n",
        "# 2. TF-IDF Model\n",
        "The BOW model doesn’t give good results since it has a drawback. Assume that there is a particular word that is appearing in all the documents and it comes multiple times, eventually, it will have a higher frequency of occurrence and it will have a greater value that will cause a specific word to have more weightage in a sentence, that’s not good for our analysis.\n",
        "\n",
        "# Term frequency (TF):\n",
        " Number of times a term has appeared in a document. The term frequency is a measure of how frequently or how common a word is for a given sentence.\n",
        "\n",
        "# Inverse Document Frequency (IDF):\n",
        " The inverse document frequency (IDF ) is a measure of how rare a word is in a document. Words like “the”,” a” show up in all the documents but rare words will not occur in all the documents of the corpus.\n",
        "\n",
        "If a word appears in almost every document means it’s not significant for the classification.\n",
        "IDF of a word is = log(N/n)\n",
        "\n",
        "N: total number of documents. n: number of documents containing a term (word)\n",
        "\n",
        "TF-IDF Evaluates how relevant is a word to its sentence in a collection of sentences or documents."
      ],
      "metadata": {
        "id": "wd0J5zsChcw1"
      }
    },
    {
      "cell_type": "code",
      "source": [
        "from sklearn.feature_extraction.text import TfidfVectorizer\n",
        "from nltk.tokenize import RegexpTokenizer\n",
        "\n",
        "token = RegexpTokenizer(r'[a-zA-Z0-9]+')\n",
        "\n",
        "TfIdf_Vectorizer = TfidfVectorizer(tokenizer = token.tokenize)\n",
        "\n",
        "X = TfIdf_Vectorizer.fit_transform(data.Tokens)\n",
        "\n",
        "X_array = X.toarray()\n",
        "\n",
        "pd.DataFrame(data=X_array, columns = TfIdf_Vectorizer.get_feature_names_out()).head()"
      ],
      "metadata": {
        "id": "x-U9cGJkiA1Z",
        "colab": {
          "base_uri": "https://localhost:8080/",
          "height": 300
        },
        "outputId": "99fe92fa-585d-4af3-ecfe-3936c8291353"
      },
      "execution_count": 112,
      "outputs": [
        {
          "output_type": "execute_result",
          "data": {
            "text/plain": [
              "    aa  aaa  aac  aadc  aaliyah  aaltra  aamir  aaron  aashare   ab  ...  \\\n",
              "0  0.0  0.0  0.0   0.0      0.0     0.0    0.0    0.0      0.0  0.0  ...   \n",
              "1  0.0  0.0  0.0   0.0      0.0     0.0    0.0    0.0      0.0  0.0  ...   \n",
              "2  0.0  0.0  0.0   0.0      0.0     0.0    0.0    0.0      0.0  0.0  ...   \n",
              "3  0.0  0.0  0.0   0.0      0.0     0.0    0.0    0.0      0.0  0.0  ...   \n",
              "4  0.0  0.0  0.0   0.0      0.0     0.0    0.0    0.0      0.0  0.0  ...   \n",
              "\n",
              "   zombie  zone  zonealarm  zoom  zooropa  zorro  zuluaga  zurich  zutons  \\\n",
              "0     0.0   0.0        0.0   0.0      0.0    0.0      0.0     0.0     0.0   \n",
              "1     0.0   0.0        0.0   0.0      0.0    0.0      0.0     0.0     0.0   \n",
              "2     0.0   0.0        0.0   0.0      0.0    0.0      0.0     0.0     0.0   \n",
              "3     0.0   0.0        0.0   0.0      0.0    0.0      0.0     0.0     0.0   \n",
              "4     0.0   0.0        0.0   0.0      0.0    0.0      0.0     0.0     0.0   \n",
              "\n",
              "   zvonareva  \n",
              "0        0.0  \n",
              "1        0.0  \n",
              "2        0.0  \n",
              "3        0.0  \n",
              "4        0.0  \n",
              "\n",
              "[5 rows x 23434 columns]"
            ],
            "text/html": [
              "\n",
              "  <div id=\"df-cc8bfe83-e1ff-42a9-a4b8-37602f2b1663\">\n",
              "    <div class=\"colab-df-container\">\n",
              "      <div>\n",
              "<style scoped>\n",
              "    .dataframe tbody tr th:only-of-type {\n",
              "        vertical-align: middle;\n",
              "    }\n",
              "\n",
              "    .dataframe tbody tr th {\n",
              "        vertical-align: top;\n",
              "    }\n",
              "\n",
              "    .dataframe thead th {\n",
              "        text-align: right;\n",
              "    }\n",
              "</style>\n",
              "<table border=\"1\" class=\"dataframe\">\n",
              "  <thead>\n",
              "    <tr style=\"text-align: right;\">\n",
              "      <th></th>\n",
              "      <th>aa</th>\n",
              "      <th>aaa</th>\n",
              "      <th>aac</th>\n",
              "      <th>aadc</th>\n",
              "      <th>aaliyah</th>\n",
              "      <th>aaltra</th>\n",
              "      <th>aamir</th>\n",
              "      <th>aaron</th>\n",
              "      <th>aashare</th>\n",
              "      <th>ab</th>\n",
              "      <th>...</th>\n",
              "      <th>zombie</th>\n",
              "      <th>zone</th>\n",
              "      <th>zonealarm</th>\n",
              "      <th>zoom</th>\n",
              "      <th>zooropa</th>\n",
              "      <th>zorro</th>\n",
              "      <th>zuluaga</th>\n",
              "      <th>zurich</th>\n",
              "      <th>zutons</th>\n",
              "      <th>zvonareva</th>\n",
              "    </tr>\n",
              "  </thead>\n",
              "  <tbody>\n",
              "    <tr>\n",
              "      <th>0</th>\n",
              "      <td>0.0</td>\n",
              "      <td>0.0</td>\n",
              "      <td>0.0</td>\n",
              "      <td>0.0</td>\n",
              "      <td>0.0</td>\n",
              "      <td>0.0</td>\n",
              "      <td>0.0</td>\n",
              "      <td>0.0</td>\n",
              "      <td>0.0</td>\n",
              "      <td>0.0</td>\n",
              "      <td>...</td>\n",
              "      <td>0.0</td>\n",
              "      <td>0.0</td>\n",
              "      <td>0.0</td>\n",
              "      <td>0.0</td>\n",
              "      <td>0.0</td>\n",
              "      <td>0.0</td>\n",
              "      <td>0.0</td>\n",
              "      <td>0.0</td>\n",
              "      <td>0.0</td>\n",
              "      <td>0.0</td>\n",
              "    </tr>\n",
              "    <tr>\n",
              "      <th>1</th>\n",
              "      <td>0.0</td>\n",
              "      <td>0.0</td>\n",
              "      <td>0.0</td>\n",
              "      <td>0.0</td>\n",
              "      <td>0.0</td>\n",
              "      <td>0.0</td>\n",
              "      <td>0.0</td>\n",
              "      <td>0.0</td>\n",
              "      <td>0.0</td>\n",
              "      <td>0.0</td>\n",
              "      <td>...</td>\n",
              "      <td>0.0</td>\n",
              "      <td>0.0</td>\n",
              "      <td>0.0</td>\n",
              "      <td>0.0</td>\n",
              "      <td>0.0</td>\n",
              "      <td>0.0</td>\n",
              "      <td>0.0</td>\n",
              "      <td>0.0</td>\n",
              "      <td>0.0</td>\n",
              "      <td>0.0</td>\n",
              "    </tr>\n",
              "    <tr>\n",
              "      <th>2</th>\n",
              "      <td>0.0</td>\n",
              "      <td>0.0</td>\n",
              "      <td>0.0</td>\n",
              "      <td>0.0</td>\n",
              "      <td>0.0</td>\n",
              "      <td>0.0</td>\n",
              "      <td>0.0</td>\n",
              "      <td>0.0</td>\n",
              "      <td>0.0</td>\n",
              "      <td>0.0</td>\n",
              "      <td>...</td>\n",
              "      <td>0.0</td>\n",
              "      <td>0.0</td>\n",
              "      <td>0.0</td>\n",
              "      <td>0.0</td>\n",
              "      <td>0.0</td>\n",
              "      <td>0.0</td>\n",
              "      <td>0.0</td>\n",
              "      <td>0.0</td>\n",
              "      <td>0.0</td>\n",
              "      <td>0.0</td>\n",
              "    </tr>\n",
              "    <tr>\n",
              "      <th>3</th>\n",
              "      <td>0.0</td>\n",
              "      <td>0.0</td>\n",
              "      <td>0.0</td>\n",
              "      <td>0.0</td>\n",
              "      <td>0.0</td>\n",
              "      <td>0.0</td>\n",
              "      <td>0.0</td>\n",
              "      <td>0.0</td>\n",
              "      <td>0.0</td>\n",
              "      <td>0.0</td>\n",
              "      <td>...</td>\n",
              "      <td>0.0</td>\n",
              "      <td>0.0</td>\n",
              "      <td>0.0</td>\n",
              "      <td>0.0</td>\n",
              "      <td>0.0</td>\n",
              "      <td>0.0</td>\n",
              "      <td>0.0</td>\n",
              "      <td>0.0</td>\n",
              "      <td>0.0</td>\n",
              "      <td>0.0</td>\n",
              "    </tr>\n",
              "    <tr>\n",
              "      <th>4</th>\n",
              "      <td>0.0</td>\n",
              "      <td>0.0</td>\n",
              "      <td>0.0</td>\n",
              "      <td>0.0</td>\n",
              "      <td>0.0</td>\n",
              "      <td>0.0</td>\n",
              "      <td>0.0</td>\n",
              "      <td>0.0</td>\n",
              "      <td>0.0</td>\n",
              "      <td>0.0</td>\n",
              "      <td>...</td>\n",
              "      <td>0.0</td>\n",
              "      <td>0.0</td>\n",
              "      <td>0.0</td>\n",
              "      <td>0.0</td>\n",
              "      <td>0.0</td>\n",
              "      <td>0.0</td>\n",
              "      <td>0.0</td>\n",
              "      <td>0.0</td>\n",
              "      <td>0.0</td>\n",
              "      <td>0.0</td>\n",
              "    </tr>\n",
              "  </tbody>\n",
              "</table>\n",
              "<p>5 rows × 23434 columns</p>\n",
              "</div>\n",
              "      <button class=\"colab-df-convert\" onclick=\"convertToInteractive('df-cc8bfe83-e1ff-42a9-a4b8-37602f2b1663')\"\n",
              "              title=\"Convert this dataframe to an interactive table.\"\n",
              "              style=\"display:none;\">\n",
              "        \n",
              "  <svg xmlns=\"http://www.w3.org/2000/svg\" height=\"24px\"viewBox=\"0 0 24 24\"\n",
              "       width=\"24px\">\n",
              "    <path d=\"M0 0h24v24H0V0z\" fill=\"none\"/>\n",
              "    <path d=\"M18.56 5.44l.94 2.06.94-2.06 2.06-.94-2.06-.94-.94-2.06-.94 2.06-2.06.94zm-11 1L8.5 8.5l.94-2.06 2.06-.94-2.06-.94L8.5 2.5l-.94 2.06-2.06.94zm10 10l.94 2.06.94-2.06 2.06-.94-2.06-.94-.94-2.06-.94 2.06-2.06.94z\"/><path d=\"M17.41 7.96l-1.37-1.37c-.4-.4-.92-.59-1.43-.59-.52 0-1.04.2-1.43.59L10.3 9.45l-7.72 7.72c-.78.78-.78 2.05 0 2.83L4 21.41c.39.39.9.59 1.41.59.51 0 1.02-.2 1.41-.59l7.78-7.78 2.81-2.81c.8-.78.8-2.07 0-2.86zM5.41 20L4 18.59l7.72-7.72 1.47 1.35L5.41 20z\"/>\n",
              "  </svg>\n",
              "      </button>\n",
              "      \n",
              "  <style>\n",
              "    .colab-df-container {\n",
              "      display:flex;\n",
              "      flex-wrap:wrap;\n",
              "      gap: 12px;\n",
              "    }\n",
              "\n",
              "    .colab-df-convert {\n",
              "      background-color: #E8F0FE;\n",
              "      border: none;\n",
              "      border-radius: 50%;\n",
              "      cursor: pointer;\n",
              "      display: none;\n",
              "      fill: #1967D2;\n",
              "      height: 32px;\n",
              "      padding: 0 0 0 0;\n",
              "      width: 32px;\n",
              "    }\n",
              "\n",
              "    .colab-df-convert:hover {\n",
              "      background-color: #E2EBFA;\n",
              "      box-shadow: 0px 1px 2px rgba(60, 64, 67, 0.3), 0px 1px 3px 1px rgba(60, 64, 67, 0.15);\n",
              "      fill: #174EA6;\n",
              "    }\n",
              "\n",
              "    [theme=dark] .colab-df-convert {\n",
              "      background-color: #3B4455;\n",
              "      fill: #D2E3FC;\n",
              "    }\n",
              "\n",
              "    [theme=dark] .colab-df-convert:hover {\n",
              "      background-color: #434B5C;\n",
              "      box-shadow: 0px 1px 3px 1px rgba(0, 0, 0, 0.15);\n",
              "      filter: drop-shadow(0px 1px 2px rgba(0, 0, 0, 0.3));\n",
              "      fill: #FFFFFF;\n",
              "    }\n",
              "  </style>\n",
              "\n",
              "      <script>\n",
              "        const buttonEl =\n",
              "          document.querySelector('#df-cc8bfe83-e1ff-42a9-a4b8-37602f2b1663 button.colab-df-convert');\n",
              "        buttonEl.style.display =\n",
              "          google.colab.kernel.accessAllowed ? 'block' : 'none';\n",
              "\n",
              "        async function convertToInteractive(key) {\n",
              "          const element = document.querySelector('#df-cc8bfe83-e1ff-42a9-a4b8-37602f2b1663');\n",
              "          const dataTable =\n",
              "            await google.colab.kernel.invokeFunction('convertToInteractive',\n",
              "                                                     [key], {});\n",
              "          if (!dataTable) return;\n",
              "\n",
              "          const docLinkHtml = 'Like what you see? Visit the ' +\n",
              "            '<a target=\"_blank\" href=https://colab.research.google.com/notebooks/data_table.ipynb>data table notebook</a>'\n",
              "            + ' to learn more about interactive tables.';\n",
              "          element.innerHTML = '';\n",
              "          dataTable['output_type'] = 'display_data';\n",
              "          await google.colab.output.renderOutput(dataTable, element);\n",
              "          const docLink = document.createElement('div');\n",
              "          docLink.innerHTML = docLinkHtml;\n",
              "          element.appendChild(docLink);\n",
              "        }\n",
              "      </script>\n",
              "    </div>\n",
              "  </div>\n",
              "  "
            ]
          },
          "metadata": {},
          "execution_count": 112
        }
      ]
    },
    {
      "cell_type": "code",
      "source": [
        "X_array.shape"
      ],
      "metadata": {
        "id": "iafiKbsPhYLF",
        "colab": {
          "base_uri": "https://localhost:8080/"
        },
        "outputId": "3b98de57-ebfc-4096-f7cd-36a0c217b619"
      },
      "execution_count": 113,
      "outputs": [
        {
          "output_type": "execute_result",
          "data": {
            "text/plain": [
              "(1490, 23434)"
            ]
          },
          "metadata": {},
          "execution_count": 113
        }
      ]
    },
    {
      "cell_type": "code",
      "source": [
        "y=data[\"Category\"]"
      ],
      "metadata": {
        "id": "gjVuZ3grh13n"
      },
      "execution_count": 114,
      "outputs": []
    },
    {
      "cell_type": "code",
      "source": [
        "y.shape"
      ],
      "metadata": {
        "id": "FrbxNRHckXKd",
        "colab": {
          "base_uri": "https://localhost:8080/"
        },
        "outputId": "33e9d61c-bd1c-45ab-ff8d-68e058812ab7"
      },
      "execution_count": 115,
      "outputs": [
        {
          "output_type": "execute_result",
          "data": {
            "text/plain": [
              "(1490,)"
            ]
          },
          "metadata": {},
          "execution_count": 115
        }
      ]
    },
    {
      "cell_type": "code",
      "source": [
        "article = \"\"\"\n",
        "New Delhi:\n",
        "\n",
        "SpiceJet employees on Wednesday alleged delay in the disbursal of salaries for the second straight month, with the budget airline saying the payments were being made in a \"graded format\".\n",
        "\n",
        "There was a delay in disbursal of salary for staff, including flight crew, for the month of July and many are yet to get the Form 16 for the financial year 2021-22 as well, SpiceJet employees claimed.\n",
        "\n",
        "\"The salary disbursal was timely for June. Also, the salaries are yet to match the pre-COVID-19 levels. The salaries being disbursed to captains and first officers are not even 50 per cent of what they used to be before the pandemic outbreak in March 2020,\" an employee told PTI.\n",
        "\n",
        "However, SpiceJet claimed it has started salary disbursal in a \"graded format\".\n",
        "\n",
        "\"We have started crediting salaries from today. Like the previous month, salary will be credited in a graded format,\" the airline said in a statement to PTI.\n",
        "\n",
        "In an internal communication Wednesday, the SpiceJet's Human Resources team informed employees about the delays citing that the \"previous few months have been difficult\" due to \"superlative fuel price hike\" and also \"historically lean period of July-September\".\n",
        "\n",
        "\"We have started to see some green shoots of relief with reduction in fuel price effective August 1. Passenger demand is also expected to be strong as we enter our traditional strong season in end-September,\" the communication read.\n",
        "\"\"\""
      ],
      "metadata": {
        "id": "xtMnVVBojNNL"
      },
      "execution_count": 116,
      "outputs": []
    },
    {
      "cell_type": "markdown",
      "source": [
        "# Detect Catagory"
      ],
      "metadata": {
        "id": "_49dMO86jZ45"
      }
    },
    {
      "cell_type": "code",
      "source": [
        "import re\n",
        "from bs4 import BeautifulSoup\n",
        "import string\n",
        "from nltk.stem import WordNetLemmatizer\n",
        "\n",
        "def detect_catagory(model, sentence):\n",
        "\n",
        "    # make smallercase\n",
        "    sentence = sentence.lower()\n",
        "        \n",
        "    # remove emails\n",
        "    sentence = re.sub(r\"([a-zA-Z0-9_.+-]+@[a-zA-Z0-9-]+\\.[a-zA-Z0-9-.]+$)\", '', sentence)\n",
        "\n",
        "    # remove mentions\n",
        "    sentence = re.sub(r\"@[A-Za-z0-9]+\",\"\", sentence)\n",
        "    \n",
        "    # Remove html\n",
        "    sentence = BeautifulSoup(sentence, 'lxml').get_text().strip()\n",
        "    \n",
        "    # Remove URL\n",
        "    sentence = re.sub(r'https?://\\S+|www\\.\\S+', '', sentence)\n",
        "        \n",
        "    # Removing punctutation, string.punctuation in python consists of !\"#$%&\\'()*+,-./:;<=>?@[\\\\]^_\n",
        "    sentence = sentence.translate(str.maketrans('', '', string.punctuation))\n",
        "    \n",
        "    # Remove non-alphabetic characters\n",
        "    sentence = re.sub(r'[^a-zA-Z ]', '', sentence)\n",
        "\n",
        "    # Spliting words into two meaningful word\n",
        "    sentence = ' '.join(wn.split(str(sentence)))\n",
        "\n",
        "    # Correct the sentence\n",
        "    sentence =  str(TextBlob(sentence).correct())\n",
        "    \n",
        "    # decontracted\n",
        "     ## specific\n",
        "    sentence = re.sub(r\"wont\", \"will not\", sentence)\n",
        "    sentence = re.sub(r\"wouldnt\", \"would not\", sentence)\n",
        "    sentence = re.sub(r\"shouldnt\", \"should not\", sentence)\n",
        "    sentence = re.sub(r\"couldnt\", \"could not\", sentence)\n",
        "    sentence = re.sub(r\"cudnt\", \"could not\", sentence)\n",
        "    sentence = re.sub(r\"cant\", \"can not\", sentence)\n",
        "    sentence = re.sub(r\"dont\", \"do not\", sentence)\n",
        "    sentence = re.sub(r\"doesnt\", \"does not\", sentence)\n",
        "    sentence = re.sub(r\"didnt\", \"did not\", sentence)\n",
        "    sentence = re.sub(r\"wasnt\", \"was not\", sentence)\n",
        "    sentence = re.sub(r\"werent\", \"were not\", sentence)\n",
        "    sentence = re.sub(r\"havent\", \"have not\", sentence)\n",
        "    sentence = re.sub(r\"hadnt\", \"had not\", sentence)\n",
        "\n",
        "    ## general\n",
        "    sentence = re.sub(r\"n\\ t\", \" not\", sentence)\n",
        "    #sentence = re.sub(r\"\\re\", \" are\", sentence)\n",
        "    sentence = re.sub(r\"\\ s \", \" is \", sentence) \n",
        "    sentence = re.sub(r\"\\ d \", \" would \", sentence)\n",
        "    sentence = re.sub(r\"\\ ll \", \" will \", sentence)\n",
        "    sentence = re.sub(r\"\\dunno\", \"do not \", sentence)\n",
        "    sentence = re.sub(r\"ive \", \"i have \", sentence)\n",
        "    sentence = re.sub(r\"im \", \"i am \", sentence)\n",
        "    sentence = re.sub(r\"i m \", \"i am \", sentence)\n",
        "    sentence = re.sub(r\" w \", \" with \", sentence)\n",
        "    # Lemmatize\n",
        "    lm = WordNetLemmatizer()\n",
        "    snt = ' '.join([lm.lemmatize(i) for i in sentence.split()])\n",
        "    \n",
        "    return model.predict(TfIdf_Vectorizer.transform([snt]))[0]"
      ],
      "metadata": {
        "id": "t8Gl8UWrjO34"
      },
      "execution_count": 117,
      "outputs": []
    },
    {
      "cell_type": "markdown",
      "source": [
        "# Get Weight of a word"
      ],
      "metadata": {
        "id": "aZDy_eGGjzH7"
      }
    },
    {
      "cell_type": "code",
      "source": [
        "def get_weight(model, word):\n",
        "    try:\n",
        "        print(model.coef_[0][list(TfIdf_Vectorizer.get_feature_names_out()).index(word)])\n",
        "    except IndexError:\n",
        "        print(model.coef_.toarray()[0][list(TfIdf_Vectorizer.get_feature_names_out()).index(word)])\n",
        "    except ValueError:\n",
        "        pass"
      ],
      "metadata": {
        "id": "iisDhZKlj1_8"
      },
      "execution_count": 94,
      "outputs": []
    },
    {
      "cell_type": "markdown",
      "source": [
        "# Model Building"
      ],
      "metadata": {
        "id": "uL4BG05PkCMB"
      }
    },
    {
      "cell_type": "code",
      "source": [
        "from sklearn.model_selection import train_test_split\n",
        "from sklearn.model_selection import cross_val_score\n",
        "from sklearn.metrics import classification_report, confusion_matrix, accuracy_score"
      ],
      "metadata": {
        "id": "nLG5DvnekEai"
      },
      "execution_count": 95,
      "outputs": []
    },
    {
      "cell_type": "code",
      "source": [
        "X_train, X_test, y_train, y_test = train_test_split(X,y, test_size=.33, random_state=40)"
      ],
      "metadata": {
        "id": "6eMBmJfnkEBy"
      },
      "execution_count": 96,
      "outputs": []
    },
    {
      "cell_type": "markdown",
      "source": [
        "# 1. Logistic Regression"
      ],
      "metadata": {
        "id": "aTvEDiOCkjV_"
      }
    },
    {
      "cell_type": "code",
      "source": [
        "from sklearn.linear_model import LogisticRegression"
      ],
      "metadata": {
        "id": "poMLilLXkkUq"
      },
      "execution_count": 118,
      "outputs": []
    },
    {
      "cell_type": "code",
      "source": [
        "# Check Cross Validation Score\n",
        "clf = LogisticRegression(random_state=42, max_iter=1000)\n",
        "np.average(cross_val_score(clf, X, y, cv=10))"
      ],
      "metadata": {
        "id": "Z_fKoaBCkxTX",
        "colab": {
          "base_uri": "https://localhost:8080/"
        },
        "outputId": "8e1e0ad2-2131-4b98-f9ba-f48754607557"
      },
      "execution_count": 119,
      "outputs": [
        {
          "output_type": "execute_result",
          "data": {
            "text/plain": [
              "0.9691275167785234"
            ]
          },
          "metadata": {},
          "execution_count": 119
        }
      ]
    },
    {
      "cell_type": "code",
      "source": [
        "# Model Building\n",
        "clf.fit(X_train, y_train)"
      ],
      "metadata": {
        "id": "96-YFvWBk4fT",
        "colab": {
          "base_uri": "https://localhost:8080/"
        },
        "outputId": "59e6b0a6-c427-4fab-8568-86ef13dd78a1"
      },
      "execution_count": 120,
      "outputs": [
        {
          "output_type": "execute_result",
          "data": {
            "text/plain": [
              "LogisticRegression(max_iter=1000, random_state=42)"
            ]
          },
          "metadata": {},
          "execution_count": 120
        }
      ]
    },
    {
      "cell_type": "code",
      "source": [
        "from sklearn.metrics import classification_report, confusion_matrix\n",
        "\n",
        "y_pred = clf.predict(X_test)\n",
        "print(classification_report(y_test, y_pred))"
      ],
      "metadata": {
        "id": "nsxSNmw7k98A",
        "colab": {
          "base_uri": "https://localhost:8080/"
        },
        "outputId": "67c4a941-cfef-459b-f315-5bdbb8322c59"
      },
      "execution_count": 121,
      "outputs": [
        {
          "output_type": "stream",
          "name": "stdout",
          "text": [
            "               precision    recall  f1-score   support\n",
            "\n",
            "     business       0.96      0.99      0.98       107\n",
            "entertainment       0.98      0.99      0.98        95\n",
            "     politics       0.99      0.98      0.98        85\n",
            "        sport       0.97      0.99      0.98       110\n",
            "         tech       1.00      0.95      0.97        95\n",
            "\n",
            "     accuracy                           0.98       492\n",
            "    macro avg       0.98      0.98      0.98       492\n",
            " weighted avg       0.98      0.98      0.98       492\n",
            "\n"
          ]
        }
      ]
    },
    {
      "cell_type": "code",
      "source": [
        "def plot_matrix(y_test, y_pred, color=\"Oranges\"):\n",
        "    labels = np.unique(y_pred)\n",
        "    cm_df = pd.DataFrame(confusion_matrix(y_test, y_pred), index=labels, columns=labels)\n",
        "    sns.heatmap(cm_df, annot=True, fmt='g', cmap=color)\n",
        "    plt.xlabel(\"Actual\")\n",
        "    plt.ylabel(\"Predicted\")\n",
        "    plt.show()"
      ],
      "metadata": {
        "id": "xzlK8ScglDUr"
      },
      "execution_count": 168,
      "outputs": []
    },
    {
      "cell_type": "code",
      "source": [
        "plot_matrix(y_test, y_pred)"
      ],
      "metadata": {
        "colab": {
          "base_uri": "https://localhost:8080/",
          "height": 341
        },
        "id": "9NIzaCqU-H9W",
        "outputId": "8d2ea3c6-1fd6-4e79-e3b1-243d57267ee5"
      },
      "execution_count": 169,
      "outputs": [
        {
          "output_type": "display_data",
          "data": {
            "text/plain": [
              "<Figure size 432x288 with 2 Axes>"
            ],
            "image/png": "[encoded data removed]"
          },
          "metadata": {
            "needs_background": "light"
          }
        }
      ]
    },
    {
      "cell_type": "code",
      "source": [
        "print(detect_catagory(clf, article))"
      ],
      "metadata": {
        "id": "9FHDBljclIfm",
        "colab": {
          "base_uri": "https://localhost:8080/"
        },
        "outputId": "5e21abbe-c052-4808-e5af-74e351f978d0"
      },
      "execution_count": 123,
      "outputs": [
        {
          "output_type": "stream",
          "name": "stdout",
          "text": [
            "business\n"
          ]
        }
      ]
    },
    {
      "cell_type": "code",
      "source": [
        "get_weight(clf, \"interesting\")"
      ],
      "metadata": {
        "id": "9jTl8GSBlPDp",
        "colab": {
          "base_uri": "https://localhost:8080/"
        },
        "outputId": "f2ae2dda-d133-43b1-abcf-23b1244e2a91"
      },
      "execution_count": 124,
      "outputs": [
        {
          "output_type": "stream",
          "name": "stdout",
          "text": [
            "-0.056347718997888534\n"
          ]
        }
      ]
    },
    {
      "cell_type": "markdown",
      "source": [
        "# Using L1 Regularization"
      ],
      "metadata": {
        "id": "2sT1E8dGlS5m"
      }
    },
    {
      "cell_type": "code",
      "source": [
        "clf_l1 = LogisticRegression(penalty=\"l1\", C=20, random_state=42, max_iter=1000, solver='liblinear')\n",
        "\n",
        "np.average(cross_val_score(clf_l1, X, y, cv=10))"
      ],
      "metadata": {
        "id": "EvlLOB25l2Y_",
        "colab": {
          "base_uri": "https://localhost:8080/"
        },
        "outputId": "9d8cb9e6-4476-47b2-8293-8f4f79aa5c84"
      },
      "execution_count": 125,
      "outputs": [
        {
          "output_type": "execute_result",
          "data": {
            "text/plain": [
              "0.9604026845637584"
            ]
          },
          "metadata": {},
          "execution_count": 125
        }
      ]
    },
    {
      "cell_type": "code",
      "source": [
        "clf_l1.fit(X_train, y_train)"
      ],
      "metadata": {
        "id": "PLPnZ6q_l-Ip",
        "colab": {
          "base_uri": "https://localhost:8080/"
        },
        "outputId": "aa04c100-d506-4316-fac3-a9ceb50842a6"
      },
      "execution_count": 126,
      "outputs": [
        {
          "output_type": "execute_result",
          "data": {
            "text/plain": [
              "LogisticRegression(C=20, max_iter=1000, penalty='l1', random_state=42,\n",
              "                   solver='liblinear')"
            ]
          },
          "metadata": {},
          "execution_count": 126
        }
      ]
    },
    {
      "cell_type": "code",
      "source": [
        "y_pred_l1 = clf_l1.predict(X_test)\n",
        "print(classification_report(y_test, y_pred_l1))"
      ],
      "metadata": {
        "id": "bCs1B1_0mA7A",
        "colab": {
          "base_uri": "https://localhost:8080/"
        },
        "outputId": "509924e2-7259-4bb9-a262-9b5b4a15ee58"
      },
      "execution_count": 127,
      "outputs": [
        {
          "output_type": "stream",
          "name": "stdout",
          "text": [
            "               precision    recall  f1-score   support\n",
            "\n",
            "     business       0.92      0.95      0.94       107\n",
            "entertainment       0.97      0.97      0.97        95\n",
            "     politics       0.93      0.98      0.95        85\n",
            "        sport       0.96      0.98      0.97       110\n",
            "         tech       1.00      0.88      0.94        95\n",
            "\n",
            "     accuracy                           0.95       492\n",
            "    macro avg       0.96      0.95      0.95       492\n",
            " weighted avg       0.95      0.95      0.95       492\n",
            "\n"
          ]
        }
      ]
    },
    {
      "cell_type": "code",
      "source": [
        "plot_matrix(y_test, y_pred_l1)"
      ],
      "metadata": {
        "id": "pNzcgIbCmWKY",
        "colab": {
          "base_uri": "https://localhost:8080/",
          "height": 341
        },
        "outputId": "3793cec2-fed6-47a5-d7fd-4930dd3b4c19"
      },
      "execution_count": 128,
      "outputs": [
        {
          "output_type": "display_data",
          "data": {
            "text/plain": [
              "<Figure size 432x288 with 2 Axes>"
            ],
            "image/png": "[encoded data removed]"
          },
          "metadata": {
            "needs_background": "light"
          }
        }
      ]
    },
    {
      "cell_type": "code",
      "source": [
        "print(detect_catagory(clf, article))"
      ],
      "metadata": {
        "id": "JHQTNhJtmcGQ",
        "colab": {
          "base_uri": "https://localhost:8080/"
        },
        "outputId": "9bc22f98-8ceb-4faf-fa6b-3563b5fb8830"
      },
      "execution_count": 129,
      "outputs": [
        {
          "output_type": "stream",
          "name": "stdout",
          "text": [
            "business\n"
          ]
        }
      ]
    },
    {
      "cell_type": "code",
      "source": [
        "get_weight(clf, \"interesting\")"
      ],
      "metadata": {
        "id": "jEs7cgHKnZ2w",
        "colab": {
          "base_uri": "https://localhost:8080/"
        },
        "outputId": "9e0e2ea4-0c63-4a9b-fef0-136b08baec2a"
      },
      "execution_count": 130,
      "outputs": [
        {
          "output_type": "stream",
          "name": "stdout",
          "text": [
            "-0.056347718997888534\n"
          ]
        }
      ]
    },
    {
      "cell_type": "markdown",
      "source": [
        "# Using L2 Regularizations"
      ],
      "metadata": {
        "id": "KL58p9X7np7o"
      }
    },
    {
      "cell_type": "code",
      "source": [
        "clf_l2 = LogisticRegression(penalty=\"l2\", C=50, random_state=42, max_iter=1000)\n",
        "\n",
        "np.average(cross_val_score(clf_l2, X, y, cv=10))"
      ],
      "metadata": {
        "id": "3IZpkR3Pnfqj",
        "colab": {
          "base_uri": "https://localhost:8080/"
        },
        "outputId": "dbfc3252-cc56-46ea-c97a-8f96c3213c22"
      },
      "execution_count": 131,
      "outputs": [
        {
          "output_type": "execute_result",
          "data": {
            "text/plain": [
              "0.9738255033557047"
            ]
          },
          "metadata": {},
          "execution_count": 131
        }
      ]
    },
    {
      "cell_type": "code",
      "source": [
        "clf_l2.fit(X_train, y_train)"
      ],
      "metadata": {
        "id": "MXYTbsNGns7q",
        "colab": {
          "base_uri": "https://localhost:8080/"
        },
        "outputId": "d094eef7-9803-43f6-a3bf-0c287c7d51fc"
      },
      "execution_count": 132,
      "outputs": [
        {
          "output_type": "execute_result",
          "data": {
            "text/plain": [
              "LogisticRegression(C=50, max_iter=1000, random_state=42)"
            ]
          },
          "metadata": {},
          "execution_count": 132
        }
      ]
    },
    {
      "cell_type": "code",
      "source": [
        "y_pred_l2 = clf_l2.predict(X_test)\n",
        "\n",
        "print(classification_report(y_test, y_pred_l2))"
      ],
      "metadata": {
        "id": "8eACBTx1nz4G",
        "colab": {
          "base_uri": "https://localhost:8080/"
        },
        "outputId": "92bccaf2-91be-4b7f-d2e8-ec4c684d5c9a"
      },
      "execution_count": 133,
      "outputs": [
        {
          "output_type": "stream",
          "name": "stdout",
          "text": [
            "               precision    recall  f1-score   support\n",
            "\n",
            "     business       0.98      0.97      0.98       107\n",
            "entertainment       0.98      0.99      0.98        95\n",
            "     politics       0.98      0.98      0.98        85\n",
            "        sport       0.98      0.99      0.99       110\n",
            "         tech       0.98      0.97      0.97        95\n",
            "\n",
            "     accuracy                           0.98       492\n",
            "    macro avg       0.98      0.98      0.98       492\n",
            " weighted avg       0.98      0.98      0.98       492\n",
            "\n"
          ]
        }
      ]
    },
    {
      "cell_type": "code",
      "source": [
        "plot_matrix(y_test, y_pred_l2)"
      ],
      "metadata": {
        "id": "Hbg_CsOFn4ac",
        "colab": {
          "base_uri": "https://localhost:8080/",
          "height": 341
        },
        "outputId": "753826fb-6225-4e4b-fda0-0bcd747ce235"
      },
      "execution_count": 134,
      "outputs": [
        {
          "output_type": "display_data",
          "data": {
            "text/plain": [
              "<Figure size 432x288 with 2 Axes>"
            ],
            "image/png": "[encoded data removed]"
          },
          "metadata": {
            "needs_background": "light"
          }
        }
      ]
    },
    {
      "cell_type": "code",
      "source": [
        "detect_catagory(clf_l2, article)"
      ],
      "metadata": {
        "id": "bpTpXlIdn8gB",
        "colab": {
          "base_uri": "https://localhost:8080/",
          "height": 35
        },
        "outputId": "24fdffed-2520-4aa3-94a4-cd3e8903484d"
      },
      "execution_count": 135,
      "outputs": [
        {
          "output_type": "execute_result",
          "data": {
            "text/plain": [
              "'business'"
            ],
            "application/vnd.google.colaboratory.intrinsic+json": {
              "type": "string"
            }
          },
          "metadata": {},
          "execution_count": 135
        }
      ]
    },
    {
      "cell_type": "markdown",
      "source": [
        "# 2. Support Vector Machine\n",
        "# 1. Linear Kernal\n",
        "\n",
        "Linear Kernel is used when the data is Linearly separable, that is, it can be separated using a single Line. It is mostly used when there are a Large number of Features in a particular Data Set. One of the examples where there are a lot of features, is Text Classification, as each alphabet is a new feature. So we mostly use Linear Kernel in Text Classification"
      ],
      "metadata": {
        "id": "tB06secfojdT"
      }
    },
    {
      "cell_type": "code",
      "source": [
        "from sklearn import svm\n",
        "\n",
        "svc_linear = svm.SVC(kernel ='linear', C = 1)\n",
        "svc_linear.fit(X_train, y_train)\n",
        "\n",
        "y_pred = svc_linear.predict(X_test)\n",
        "\n",
        "accuracy_score(y_pred, y_test)"
      ],
      "metadata": {
        "id": "ieKJIoe1ojGq",
        "colab": {
          "base_uri": "https://localhost:8080/"
        },
        "outputId": "a481b368-1911-4d21-8100-23efe2addb29"
      },
      "execution_count": 136,
      "outputs": [
        {
          "output_type": "execute_result",
          "data": {
            "text/plain": [
              "0.9796747967479674"
            ]
          },
          "metadata": {},
          "execution_count": 136
        }
      ]
    },
    {
      "cell_type": "code",
      "source": [
        "print(classification_report(y_test, y_pred))"
      ],
      "metadata": {
        "id": "WAK9E4reovJg",
        "colab": {
          "base_uri": "https://localhost:8080/"
        },
        "outputId": "ba2a8c82-1084-47e6-80c0-f3bf707636ec"
      },
      "execution_count": 137,
      "outputs": [
        {
          "output_type": "stream",
          "name": "stdout",
          "text": [
            "               precision    recall  f1-score   support\n",
            "\n",
            "     business       0.98      0.98      0.98       107\n",
            "entertainment       0.98      0.99      0.98        95\n",
            "     politics       0.97      0.98      0.97        85\n",
            "        sport       0.98      0.99      0.99       110\n",
            "         tech       0.99      0.96      0.97        95\n",
            "\n",
            "     accuracy                           0.98       492\n",
            "    macro avg       0.98      0.98      0.98       492\n",
            " weighted avg       0.98      0.98      0.98       492\n",
            "\n"
          ]
        }
      ]
    },
    {
      "cell_type": "markdown",
      "source": [
        "# 3. Random Forest Classifier"
      ],
      "metadata": {
        "id": "KSY0Gu5oo2_j"
      }
    },
    {
      "cell_type": "code",
      "source": [
        "from sklearn.ensemble import RandomForestClassifier\n",
        "\n",
        "rfc1 = RandomForestClassifier(max_depth=10, random_state=18)\n",
        "\n",
        "rfc1.fit(X_train, y_train)\n",
        "y_predicted = rfc1.predict(X_test)\n",
        "print(\"Accuracy :\",accuracy_score(y_test, y_predicted))"
      ],
      "metadata": {
        "id": "PXx73Hn3ozzd",
        "colab": {
          "base_uri": "https://localhost:8080/"
        },
        "outputId": "dacb1ff7-c0bc-4e80-f03e-477ddd9d55c1"
      },
      "execution_count": 138,
      "outputs": [
        {
          "output_type": "stream",
          "name": "stdout",
          "text": [
            "Accuracy : 0.9390243902439024\n"
          ]
        }
      ]
    },
    {
      "cell_type": "code",
      "source": [
        "plot_matrix(y_test, y_predicted)"
      ],
      "metadata": {
        "id": "tBK7XJCLo6Nx",
        "colab": {
          "base_uri": "https://localhost:8080/",
          "height": 341
        },
        "outputId": "85c6d871-a90a-4a75-9160-ad0e9184f617"
      },
      "execution_count": 139,
      "outputs": [
        {
          "output_type": "display_data",
          "data": {
            "text/plain": [
              "<Figure size 432x288 with 2 Axes>"
            ],
            "image/png": "[encoded data removed]"
          },
          "metadata": {
            "needs_background": "light"
          }
        }
      ]
    },
    {
      "cell_type": "code",
      "source": [
        "rfc2 = RandomForestClassifier(max_depth=20, random_state=25)\n",
        "\n",
        "rfc2.fit(X_train, y_train)\n",
        "y_predicted = rfc2.predict(X_test)\n",
        "print(\"Accuracy :\",accuracy_score(y_test, y_predicted))"
      ],
      "metadata": {
        "id": "dS7GQwhzpE7m",
        "colab": {
          "base_uri": "https://localhost:8080/"
        },
        "outputId": "adf99bf2-1bc6-4b7c-b271-30e9d51bc24e"
      },
      "execution_count": 140,
      "outputs": [
        {
          "output_type": "stream",
          "name": "stdout",
          "text": [
            "Accuracy : 0.9654471544715447\n"
          ]
        }
      ]
    },
    {
      "cell_type": "code",
      "source": [
        "rfc3 = RandomForestClassifier(max_depth=50, random_state=38)\n",
        "\n",
        "rfc3.fit(X_train, y_train)\n",
        "y_predicted = rfc3.predict(X_test)\n",
        "print(\"Accuracy :\",accuracy_score(y_test, y_predicted))"
      ],
      "metadata": {
        "id": "fEtlLmW_pGov",
        "colab": {
          "base_uri": "https://localhost:8080/"
        },
        "outputId": "4acc43a2-9c5c-484d-ca6b-900d4e9fcd26"
      },
      "execution_count": 141,
      "outputs": [
        {
          "output_type": "stream",
          "name": "stdout",
          "text": [
            "Accuracy : 0.9735772357723578\n"
          ]
        }
      ]
    },
    {
      "cell_type": "code",
      "source": [
        "plot_matrix(y_test, y_predicted)"
      ],
      "metadata": {
        "id": "BVNgTSxepMla",
        "colab": {
          "base_uri": "https://localhost:8080/",
          "height": 341
        },
        "outputId": "02ce727a-9f61-492c-f321-7d9ba8ed853d"
      },
      "execution_count": 164,
      "outputs": [
        {
          "output_type": "display_data",
          "data": {
            "text/plain": [
              "<Figure size 432x288 with 2 Axes>"
            ],
            "image/png": "[encoded data removed]"
          },
          "metadata": {
            "needs_background": "light"
          }
        }
      ]
    },
    {
      "cell_type": "code",
      "source": [
        "rfc4 = RandomForestClassifier(max_depth=100, random_state=80)\n",
        "\n",
        "rfc4.fit(X_train, y_train)\n",
        "y_predicted = rfc4.predict(X_test)\n",
        "print(\"Accuracy :\",accuracy_score(y_test, y_predicted))"
      ],
      "metadata": {
        "id": "X4wi8yBWpTTu",
        "colab": {
          "base_uri": "https://localhost:8080/"
        },
        "outputId": "4a8108ab-201a-4a83-ce36-72bc20b3b3e7"
      },
      "execution_count": 143,
      "outputs": [
        {
          "output_type": "stream",
          "name": "stdout",
          "text": [
            "Accuracy : 0.975609756097561\n"
          ]
        }
      ]
    },
    {
      "cell_type": "code",
      "source": [
        "plot_matrix(y_test, y_predicted)"
      ],
      "metadata": {
        "id": "B-rnQvDipXlE",
        "colab": {
          "base_uri": "https://localhost:8080/",
          "height": 341
        },
        "outputId": "b5981835-972a-4bee-c357-b79921b4f79f"
      },
      "execution_count": 144,
      "outputs": [
        {
          "output_type": "display_data",
          "data": {
            "text/plain": [
              "<Figure size 432x288 with 2 Axes>"
            ],
            "image/png": "[encoded data removed]"
          },
          "metadata": {
            "needs_background": "light"
          }
        }
      ]
    },
    {
      "cell_type": "code",
      "source": [
        "rfc5 = RandomForestClassifier(max_depth=200, random_state=150)\n",
        "\n",
        "rfc5.fit(X_train, y_train)\n",
        "y_predicted = rfc5.predict(X_test)\n",
        "print(\"Accuracy :\",accuracy_score(y_test, y_predicted))"
      ],
      "metadata": {
        "id": "iY2Inejgpbcu",
        "colab": {
          "base_uri": "https://localhost:8080/"
        },
        "outputId": "119816af-b3de-4913-ef66-0cf46646f156"
      },
      "execution_count": 145,
      "outputs": [
        {
          "output_type": "stream",
          "name": "stdout",
          "text": [
            "Accuracy : 0.9634146341463414\n"
          ]
        }
      ]
    },
    {
      "cell_type": "code",
      "source": [
        "plot_matrix(y_test, y_predicted)"
      ],
      "metadata": {
        "id": "2Fvqa1aZpbZ2",
        "colab": {
          "base_uri": "https://localhost:8080/",
          "height": 341
        },
        "outputId": "1ec60c64-b3ee-4426-8627-03b3b0107a67"
      },
      "execution_count": 146,
      "outputs": [
        {
          "output_type": "display_data",
          "data": {
            "text/plain": [
              "<Figure size 432x288 with 2 Axes>"
            ],
            "image/png": "[encoded data removed]"
          },
          "metadata": {
            "needs_background": "light"
          }
        }
      ]
    },
    {
      "cell_type": "code",
      "source": [
        "rfc6 = RandomForestClassifier(max_depth=300, random_state=280)\n",
        "\n",
        "rfc6.fit(X_train, y_train)\n",
        "y_predicted = rfc6.predict(X_test)\n",
        "print(\"Accuracy :\",accuracy_score(y_test, y_predicted))"
      ],
      "metadata": {
        "id": "gFeVwgJZpg-e",
        "colab": {
          "base_uri": "https://localhost:8080/"
        },
        "outputId": "5aae7398-4ace-40a2-e1f3-501e57473f5a"
      },
      "execution_count": 147,
      "outputs": [
        {
          "output_type": "stream",
          "name": "stdout",
          "text": [
            "Accuracy : 0.9613821138211383\n"
          ]
        }
      ]
    },
    {
      "cell_type": "code",
      "source": [
        "plot_matrix(y_test, y_predicted)"
      ],
      "metadata": {
        "id": "bOz6aDkspno7",
        "colab": {
          "base_uri": "https://localhost:8080/",
          "height": 341
        },
        "outputId": "92a73a7b-5dd0-4af9-c79e-3067ae9baf0e"
      },
      "execution_count": 148,
      "outputs": [
        {
          "output_type": "display_data",
          "data": {
            "text/plain": [
              "<Figure size 432x288 with 2 Axes>"
            ],
            "image/png": "[encoded data removed]"
          },
          "metadata": {
            "needs_background": "light"
          }
        }
      ]
    },
    {
      "cell_type": "code",
      "source": [
        "rfc7 = RandomForestClassifier(max_depth=400, random_state=320)\n",
        "\n",
        "rfc7.fit(X_train, y_train)\n",
        "y_predicted = rfc7.predict(X_test)\n",
        "print(\"Accuracy :\",accuracy_score(y_test, y_predicted))"
      ],
      "metadata": {
        "id": "LtSvn1Xrpp0L",
        "colab": {
          "base_uri": "https://localhost:8080/"
        },
        "outputId": "8300d0ef-87f6-4647-abee-6170a84fe7ed"
      },
      "execution_count": 149,
      "outputs": [
        {
          "output_type": "stream",
          "name": "stdout",
          "text": [
            "Accuracy : 0.9634146341463414\n"
          ]
        }
      ]
    },
    {
      "cell_type": "code",
      "source": [
        "plot_matrix(y_test, y_predicted)"
      ],
      "metadata": {
        "id": "bjqIGRl8pwJv",
        "colab": {
          "base_uri": "https://localhost:8080/",
          "height": 341
        },
        "outputId": "dd7d74a7-0365-4427-91c2-f4f43bc24d17"
      },
      "execution_count": 150,
      "outputs": [
        {
          "output_type": "display_data",
          "data": {
            "text/plain": [
              "<Figure size 432x288 with 2 Axes>"
            ],
            "image/png": "[encoded data removed]"
          },
          "metadata": {
            "needs_background": "light"
          }
        }
      ]
    },
    {
      "cell_type": "code",
      "source": [
        "rfc8 = RandomForestClassifier(max_depth=800, random_state=500)\n",
        "\n",
        "rfc8.fit(X_train, y_train)\n",
        "y_predicted = rfc8.predict(X_test)\n",
        "print(\"Accuracy :\",accuracy_score(y_test, y_predicted))"
      ],
      "metadata": {
        "id": "9UcCxW4Rp0P9",
        "colab": {
          "base_uri": "https://localhost:8080/"
        },
        "outputId": "6911bfc9-f574-4491-c825-317ba14ca038"
      },
      "execution_count": 151,
      "outputs": [
        {
          "output_type": "stream",
          "name": "stdout",
          "text": [
            "Accuracy : 0.9654471544715447\n"
          ]
        }
      ]
    },
    {
      "cell_type": "code",
      "source": [
        "plot_matrix(y_test, y_predicted)"
      ],
      "metadata": {
        "id": "vaQpJAFJp4Bx",
        "colab": {
          "base_uri": "https://localhost:8080/",
          "height": 341
        },
        "outputId": "d625e128-d111-4948-939c-e66fa6845f1b"
      },
      "execution_count": 152,
      "outputs": [
        {
          "output_type": "display_data",
          "data": {
            "text/plain": [
              "<Figure size 432x288 with 2 Axes>"
            ],
            "image/png": "[encoded data removed]"
          },
          "metadata": {
            "needs_background": "light"
          }
        }
      ]
    },
    {
      "cell_type": "code",
      "source": [
        "rfc9 = RandomForestClassifier(max_depth=500, random_state=480)\n",
        "\n",
        "rfc9.fit(X_train, y_train)\n",
        "y_predicted = rfc9.predict(X_test)\n",
        "print(\"Accuracy :\",accuracy_score(y_test, y_predicted))"
      ],
      "metadata": {
        "id": "LEo_V3Xip9H1",
        "colab": {
          "base_uri": "https://localhost:8080/"
        },
        "outputId": "f36879f1-e158-4035-bafd-88537412f3f0"
      },
      "execution_count": 153,
      "outputs": [
        {
          "output_type": "stream",
          "name": "stdout",
          "text": [
            "Accuracy : 0.9695121951219512\n"
          ]
        }
      ]
    },
    {
      "cell_type": "code",
      "source": [
        "plot_matrix(y_test, y_predicted)"
      ],
      "metadata": {
        "id": "eVjx9V64qBGq",
        "colab": {
          "base_uri": "https://localhost:8080/",
          "height": 341
        },
        "outputId": "d7b44c9c-f190-4637-f5a2-afd1ec6544f4"
      },
      "execution_count": 154,
      "outputs": [
        {
          "output_type": "display_data",
          "data": {
            "text/plain": [
              "<Figure size 432x288 with 2 Axes>"
            ],
            "image/png": "[encoded data removed]"
          },
          "metadata": {
            "needs_background": "light"
          }
        }
      ]
    },
    {
      "cell_type": "code",
      "source": [
        "np.average(cross_val_score(rfc8, X, y, cv=10))"
      ],
      "metadata": {
        "id": "dktkl9tVqGAC",
        "colab": {
          "base_uri": "https://localhost:8080/"
        },
        "outputId": "de9e51c2-2213-4fa2-ea90-a1492c5cc4bf"
      },
      "execution_count": 155,
      "outputs": [
        {
          "output_type": "execute_result",
          "data": {
            "text/plain": [
              "0.9577181208053691"
            ]
          },
          "metadata": {},
          "execution_count": 155
        }
      ]
    },
    {
      "cell_type": "markdown",
      "source": [
        "# 4. K Nearest Neighbors"
      ],
      "metadata": {
        "id": "y8Gh2Y3VqOXM"
      }
    },
    {
      "cell_type": "code",
      "source": [
        "from sklearn.neighbors import KNeighborsClassifier\n",
        "\n",
        "neigh = KNeighborsClassifier(n_neighbors=2)\n",
        "neigh.fit(X_train, y_train)\n",
        "\n",
        "y_pred = neigh.predict(X_test)\n",
        "\n",
        "print(\"Accuracy :\",accuracy_score(y_test, y_pred))\n",
        "\n",
        "print(classification_report(y_test, y_pred))\n",
        "\n",
        "plot_matrix(y_test, y_pred)"
      ],
      "metadata": {
        "id": "cq0v7EYJqKS4",
        "colab": {
          "base_uri": "https://localhost:8080/",
          "height": 567
        },
        "outputId": "96d44190-e886-4f08-b768-ed3dc6ca018b"
      },
      "execution_count": 156,
      "outputs": [
        {
          "output_type": "stream",
          "name": "stdout",
          "text": [
            "Accuracy : 0.9004065040650406\n",
            "               precision    recall  f1-score   support\n",
            "\n",
            "     business       0.84      0.93      0.88       107\n",
            "entertainment       0.90      0.92      0.91        95\n",
            "     politics       0.82      0.93      0.87        85\n",
            "        sport       1.00      0.90      0.95       110\n",
            "         tech       0.96      0.83      0.89        95\n",
            "\n",
            "     accuracy                           0.90       492\n",
            "    macro avg       0.90      0.90      0.90       492\n",
            " weighted avg       0.91      0.90      0.90       492\n",
            "\n"
          ]
        },
        {
          "output_type": "display_data",
          "data": {
            "text/plain": [
              "<Figure size 432x288 with 2 Axes>"
            ],
            "image/png": "[encoded data removed]"
          },
          "metadata": {
            "needs_background": "light"
          }
        }
      ]
    },
    {
      "cell_type": "code",
      "source": [],
      "metadata": {
        "id": "rf4JCb6fqQot"
      },
      "execution_count": 156,
      "outputs": []
    },
    {
      "cell_type": "markdown",
      "source": [
        "# 5. Naive Bayes\n",
        "\n",
        "\n",
        "\n",
        "*   Gaussian Naive Bayes\n",
        "\n",
        "*   Multinomial Naive Bayes\n",
        "\n",
        "\n",
        "*   Complement Naive Bayes\n",
        "\n",
        "*   Bernoulli Naive Bayes\n",
        "\n",
        "\n",
        "\n",
        "*  Categorical Naive Bayes\n",
        "\n",
        "\n",
        "\n",
        "\n",
        "\n",
        "*   Out-of-core naive Bayes model fitting\n",
        "\n",
        "\n",
        "\n",
        "\n",
        "\n",
        "\n",
        "\n",
        "\n",
        "\n",
        "\n"
      ],
      "metadata": {
        "id": "8kkQyB0qqWuB"
      }
    },
    {
      "cell_type": "markdown",
      "source": [
        "# 1. Gaussian Naive Bayes"
      ],
      "metadata": {
        "id": "YJs1po5PsWcH"
      }
    },
    {
      "cell_type": "code",
      "source": [
        "from sklearn.naive_bayes import GaussianNB\n",
        "\n",
        "gnb = GaussianNB()\n",
        "gnb.fit(X_train.toarray(), y_train)\n",
        "y_predicted = gnb.predict(X_test.toarray())\n",
        "print(\"Accuracy :\",accuracy_score(y_test, y_predicted))\n",
        "\n",
        "print(classification_report(y_test, y_predicted))\n",
        "\n",
        "plot_matrix(y_test, y_predicted)"
      ],
      "metadata": {
        "id": "q_aN6WG5rDou",
        "colab": {
          "base_uri": "https://localhost:8080/",
          "height": 567
        },
        "outputId": "44eadf15-3e3c-46ae-90f9-9766a618b586"
      },
      "execution_count": 157,
      "outputs": [
        {
          "output_type": "stream",
          "name": "stdout",
          "text": [
            "Accuracy : 0.9349593495934959\n",
            "               precision    recall  f1-score   support\n",
            "\n",
            "     business       0.94      0.88      0.91       107\n",
            "entertainment       0.93      0.98      0.95        95\n",
            "     politics       0.92      0.92      0.92        85\n",
            "        sport       0.99      0.97      0.98       110\n",
            "         tech       0.89      0.93      0.91        95\n",
            "\n",
            "     accuracy                           0.93       492\n",
            "    macro avg       0.93      0.93      0.93       492\n",
            " weighted avg       0.94      0.93      0.93       492\n",
            "\n"
          ]
        },
        {
          "output_type": "display_data",
          "data": {
            "text/plain": [
              "<Figure size 432x288 with 2 Axes>"
            ],
            "image/png": "[encoded data removed]"
          },
          "metadata": {
            "needs_background": "light"
          }
        }
      ]
    },
    {
      "cell_type": "markdown",
      "source": [
        "# 2. Multinomial Naive Bayes"
      ],
      "metadata": {
        "id": "LBlXpMIrskaD"
      }
    },
    {
      "cell_type": "code",
      "source": [
        "from sklearn.naive_bayes import MultinomialNB\n",
        "\n",
        "mnb = MultinomialNB()\n",
        "mnb.fit(X_train.toarray(), y_train)\n",
        "y_predicted = mnb.predict(X_test.toarray())\n",
        "print(\"Accuracy :\",accuracy_score(y_test, y_predicted))\n",
        "\n",
        "print(classification_report(y_test, y_predicted))\n",
        "plot_matrix(y_test, y_predicted)"
      ],
      "metadata": {
        "id": "ao7ro-ZQsdOL",
        "colab": {
          "base_uri": "https://localhost:8080/",
          "height": 567
        },
        "outputId": "16fd39a4-1d89-42c3-bd1e-cad5f084d08d"
      },
      "execution_count": 158,
      "outputs": [
        {
          "output_type": "stream",
          "name": "stdout",
          "text": [
            "Accuracy : 0.9715447154471545\n",
            "               precision    recall  f1-score   support\n",
            "\n",
            "     business       0.95      0.98      0.97       107\n",
            "entertainment       0.99      0.97      0.98        95\n",
            "     politics       0.94      0.96      0.95        85\n",
            "        sport       0.97      0.99      0.98       110\n",
            "         tech       1.00      0.95      0.97        95\n",
            "\n",
            "     accuracy                           0.97       492\n",
            "    macro avg       0.97      0.97      0.97       492\n",
            " weighted avg       0.97      0.97      0.97       492\n",
            "\n"
          ]
        },
        {
          "output_type": "display_data",
          "data": {
            "text/plain": [
              "<Figure size 432x288 with 2 Axes>"
            ],
            "image/png": "[encoded data removed]"
          },
          "metadata": {
            "needs_background": "light"
          }
        }
      ]
    },
    {
      "cell_type": "markdown",
      "source": [
        "# 3. Complement Naive Bayes"
      ],
      "metadata": {
        "id": "VV5pax_BswPA"
      }
    },
    {
      "cell_type": "code",
      "source": [
        "from sklearn.naive_bayes import ComplementNB\n",
        "\n",
        "cnb = ComplementNB()\n",
        "cnb.fit(X_train, y_train)\n",
        "y_predicted = cnb.predict(X_test.toarray())\n",
        "print(\"Accuracy :\",accuracy_score(y_test, y_predicted))\n",
        "\n",
        "print(classification_report(y_test, y_predicted))\n",
        "\n",
        "plot_matrix(y_test, y_predicted)"
      ],
      "metadata": {
        "id": "Sde2Js0bst8H",
        "colab": {
          "base_uri": "https://localhost:8080/",
          "height": 567
        },
        "outputId": "bf81ef9e-e105-4276-8a0b-7d5742e97a4a"
      },
      "execution_count": 159,
      "outputs": [
        {
          "output_type": "stream",
          "name": "stdout",
          "text": [
            "Accuracy : 0.9776422764227642\n",
            "               precision    recall  f1-score   support\n",
            "\n",
            "     business       0.98      0.96      0.97       107\n",
            "entertainment       0.99      0.98      0.98        95\n",
            "     politics       0.94      0.99      0.97        85\n",
            "        sport       0.99      0.99      0.99       110\n",
            "         tech       0.98      0.97      0.97        95\n",
            "\n",
            "     accuracy                           0.98       492\n",
            "    macro avg       0.98      0.98      0.98       492\n",
            " weighted avg       0.98      0.98      0.98       492\n",
            "\n"
          ]
        },
        {
          "output_type": "display_data",
          "data": {
            "text/plain": [
              "<Figure size 432x288 with 2 Axes>"
            ],
            "image/png": "[encoded data removed]"
          },
          "metadata": {
            "needs_background": "light"
          }
        }
      ]
    },
    {
      "cell_type": "markdown",
      "source": [
        "# 4. Bernoulli Naive Bayes"
      ],
      "metadata": {
        "id": "gZIKG_mltEvx"
      }
    },
    {
      "cell_type": "code",
      "source": [
        "from sklearn.naive_bayes import BernoulliNB\n",
        "\n",
        "bnb = BernoulliNB()\n",
        "bnb.fit(X_train, y_train)\n",
        "y_predicted = bnb.predict(X_test)\n",
        "print(\"Accuracy :\",accuracy_score(y_test, y_predicted))\n",
        "\n",
        "print(classification_report(y_test, y_predicted))\n",
        "\n",
        "plot_matrix(y_test, y_predicted)"
      ],
      "metadata": {
        "id": "PsJfLn2ns3Xu",
        "colab": {
          "base_uri": "https://localhost:8080/",
          "height": 567
        },
        "outputId": "5d53fd66-b680-4195-b8a3-1306de2aafd5"
      },
      "execution_count": 160,
      "outputs": [
        {
          "output_type": "stream",
          "name": "stdout",
          "text": [
            "Accuracy : 0.9288617886178862\n",
            "               precision    recall  f1-score   support\n",
            "\n",
            "     business       0.79      0.99      0.88       107\n",
            "entertainment       0.98      0.96      0.97        95\n",
            "     politics       0.97      0.85      0.91        85\n",
            "        sport       0.98      0.99      0.99       110\n",
            "         tech       0.99      0.83      0.90        95\n",
            "\n",
            "     accuracy                           0.93       492\n",
            "    macro avg       0.94      0.92      0.93       492\n",
            " weighted avg       0.94      0.93      0.93       492\n",
            "\n"
          ]
        },
        {
          "output_type": "display_data",
          "data": {
            "text/plain": [
              "<Figure size 432x288 with 2 Axes>"
            ],
            "image/png": "[encoded data removed]"
          },
          "metadata": {
            "needs_background": "light"
          }
        }
      ]
    },
    {
      "cell_type": "markdown",
      "source": [
        "# Test Some Random Articles"
      ],
      "metadata": {
        "id": "TXQc0iKXtN39"
      }
    },
    {
      "cell_type": "code",
      "source": [
        "business = \"\"\"\n",
        "New Delhi:\n",
        "\n",
        "SpiceJet employees on Wednesday alleged delay in the disbursal of salaries for the second straight month, with the budget airline saying the payments were being made in a \"graded format\".\n",
        "\n",
        "There was a delay in disbursal of salary for staff, including flight crew, for the month of July and many are yet to get the Form 16 for the financial year 2021-22 as well, SpiceJet employees claimed.\n",
        "\n",
        "\"The salary disbursal was timely for June. Also, the salaries are yet to match the pre-COVID-19 levels. The salaries being disbursed to captains and first officers are not even 50 per cent of what they used to be before the pandemic outbreak in March 2020,\" an employee told PTI.\n",
        "\n",
        "However, SpiceJet claimed it has started salary disbursal in a \"graded format\".\n",
        "\n",
        "\"We have started crediting salaries from today. Like the previous month, salary will be credited in a graded format,\" the airline said in a statement to PTI.\n",
        "\n",
        "In an internal communication Wednesday, the SpiceJet's Human Resources team informed employees about the delays citing that the \"previous few months have been difficult\" due to \"superlative fuel price hike\" and also \"historically lean period of July-September\".\n",
        "\n",
        "\"We have started to see some green shoots of relief with reduction in fuel price effective August 1. Passenger demand is also expected to be strong as we enter our traditional strong season in end-September,\" the communication read.\n",
        "\"\"\""
      ],
      "metadata": {
        "id": "7xHHF0qKtIp3"
      },
      "execution_count": 161,
      "outputs": []
    },
    {
      "cell_type": "code",
      "source": [
        "detect_catagory(cnb, business)"
      ],
      "metadata": {
        "id": "qmTJYLbftVLi",
        "colab": {
          "base_uri": "https://localhost:8080/",
          "height": 35
        },
        "outputId": "df3ac6bc-2fa0-451c-f558-fa02dab0fb65"
      },
      "execution_count": 162,
      "outputs": [
        {
          "output_type": "execute_result",
          "data": {
            "text/plain": [
              "'business'"
            ],
            "application/vnd.google.colaboratory.intrinsic+json": {
              "type": "string"
            }
          },
          "metadata": {},
          "execution_count": 162
        }
      ]
    },
    {
      "cell_type": "code",
      "source": [
        "politics = \"\"\"\n",
        "BJP leader Sushil Kumar Modi took a dig at Bihar Chief Minister Nitish Kumar and his Telangana counterpart K Chandrashekar Rao, saying their meeting scheduled for Wednesday is a “get-together of two daydreamers\". Telangana Chief Minister Rao, popularly known as ‘KCR’, is scheduled to arrive in Patna on Wednesday and meet Kumar as both leaders aspire to build a united front against the BJP’s hegemony.\n",
        "\n",
        "KCR will also be paying cheques of compensation to family members of soldiers who were killed in the stand-off with Chinese troops in the Galwan Valley in eastern Ladakh. Taking a swipe at the meeting, Modi said it is a meeting of two leaders who are losing their base in their respective states and “desiring to become prime minister of the country\".\n",
        "\n",
        "“It is a meeting of two daydreamers who have no standing in front of Prime Minister Narendra Modi,\" the BJP leader told reporters. He dubbed the meeting as the “latest comedy show of opposition unity.\" Earlier this month, Nitish Kumar again switched sides, joined hands with the Rashtriya Janata Dal (RJD) of Lalu Prasad Yadav, after parting ways with the Bharatiya Janata Party (BJP).\n",
        "\n",
        "Sushil Modi was a deputy chief minister for more than a decade with Kumar as the chief minister in the JD(U)-BJP government in Bihar.\n",
        "\"\"\""
      ],
      "metadata": {
        "id": "8mgHJ1VPtfW4"
      },
      "execution_count": 163,
      "outputs": []
    },
    {
      "cell_type": "code",
      "source": [
        "detect_catagory(cnb,politics)"
      ],
      "metadata": {
        "id": "97gUZOmLtpza",
        "colab": {
          "base_uri": "https://localhost:8080/",
          "height": 35
        },
        "outputId": "30f470d3-ef1e-4399-c896-1ec6824eefe7"
      },
      "execution_count": 91,
      "outputs": [
        {
          "output_type": "execute_result",
          "data": {
            "text/plain": [
              "'politics'"
            ],
            "application/vnd.google.colaboratory.intrinsic+json": {
              "type": "string"
            }
          },
          "metadata": {},
          "execution_count": 91
        }
      ]
    },
    {
      "cell_type": "code",
      "source": [
        "sport = \"\"\"\n",
        "Sarfaraz Khan will be aiming to convert his stupendous domestic performances into big runs at the international level when he takes strike for India A in the first unofficial Test against New Zealand A from Thursday.\n",
        "\n",
        "The New Zealand A side comprises at least half a dozen of players who have represented the senior national team in some format over the years and would give competition to the home team. Most of the players in the Indian squad are the ones who played an A series in South Africa late last year and would like to consolidate their positions in the Test team’s pecking order. But no one would get the kind of traction that Sarfaraz is supposed to as he is back at the same venue where he scored a hundred in the Ranji Trophy final a couple of months ago. While the chosen ones are either proven domestic performers or the likes of Kuldeep Yadav, who would like to get his mojo back having missed out on the red ball domestic season last time. But in the case of the burly Mumbaikar, the attention would be much more because, after a near 1000-run Ranji Trophy season, he is literally knocking on the senior national team’s doors.\n",
        "\n",
        "India’s next Test assignment is in Bangladesh in December, after the T20 World Cup in Australia. In that squad, there could be at least one vacant middle order slot, if not two, and Sarfaraz is a serious contender to board the Dhaka-bound flight.\n",
        "\n",
        "A strong indication of that has been given by the selectors, who decided to drop Hanuma Vihari from the India A side, and he will be playing the Duleep Trophy for South Zone, like Shreyas Iyer for the West Zone.It can be said with some degree of certainty that the national selection committee is still not sanguine whether Vihari and Iyer are long-term solutions for India’s middle-order problems, with Cheteshwar Pujara and Ajinkya Rahane set to be phased out in the coming times. Hence the performances of Sarfaraz and the likes of Ruturaj Gaikwad would be closely monitored. Even skipper Priyank Panchal and his long-time A team partner Abhimanyu Easwaran would like to score heavily against bowlers like Matt Fisher, Benjamin Lister and Test spinner Rachin Ravindra. While Rohit Sharma and KL Rahul are India’s top opening pair and Shubman Gill being a floater in Tests, there is a place for another specialist opener, who could get opportunities in the future as the current skipper isn’t getting any younger.\n",
        "\"\"\""
      ],
      "metadata": {
        "id": "-vbQXsjjthf-"
      },
      "execution_count": 92,
      "outputs": []
    },
    {
      "cell_type": "code",
      "source": [
        "detect_catagory(cnb, sport)"
      ],
      "metadata": {
        "id": "FT-biBE8tn60",
        "colab": {
          "base_uri": "https://localhost:8080/",
          "height": 35
        },
        "outputId": "f53353cd-d496-4499-dcd6-801a9f5e0750"
      },
      "execution_count": 93,
      "outputs": [
        {
          "output_type": "execute_result",
          "data": {
            "text/plain": [
              "'sport'"
            ],
            "application/vnd.google.colaboratory.intrinsic+json": {
              "type": "string"
            }
          },
          "metadata": {},
          "execution_count": 93
        }
      ]
    }
  ]
}